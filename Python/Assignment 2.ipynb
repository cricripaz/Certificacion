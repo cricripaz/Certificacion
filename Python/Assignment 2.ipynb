{
 "cells": [
  {
   "cell_type": "markdown",
   "metadata": {},
   "source": [
    "PRÁCTICA Nº 2\n",
    "CERTIFICACIÓN PYTHON\n"
   ]
  },
  {
   "cell_type": "code",
   "execution_count": null,
   "metadata": {},
   "outputs": [],
   "source": [
    "#21\n",
    "\n",
    "\n",
    "year = int(input(\" Introduzca un anio \"))\n",
    "\n",
    "\n",
    "if(year%4 == 0 and year%100 != 0  or year%400 == 0):\n",
    "    print(\"si es bisiesto \")\n",
    "else:\n",
    "    print(\"no es\")\n",
    "\n",
    "    \n",
    "    "
   ]
  },
  {
   "cell_type": "code",
   "execution_count": 38,
   "metadata": {},
   "outputs": [
    {
     "name": "stdin",
     "output_type": "stream",
     "text": [
      "Ingrese el coeficiente de la variable cuadrática\n",
      " 3\n",
      "Ingrese el coeficiente de la variable lineal\n",
      " 3\n",
      "Ingrese el término independiente\n",
      " 3\n"
     ]
    },
    {
     "name": "stdout",
     "output_type": "stream",
     "text": [
      "La solución de la ecuación es con números complejos\n"
     ]
    }
   ],
   "source": [
    "#22from math import sqrt\n",
    "A = int(input(\"Ingrese el coeficiente de la variable cuadrática\\n\"))\n",
    "B = int(input(\"Ingrese el coeficiente de la variable lineal\\n\"))\n",
    "C = int(input(\"Ingrese el término independiente\\n\"))\n",
    "x1= 0\n",
    "x2= 0\n",
    "if ((B**2)-4*A*C) < 0:\n",
    "  print(\"La solución de la ecuación es con números complejos\")\n",
    "else:\n",
    "  x1 = (-B+raiz(B**2-(4*A*C)))/(2*A)\n",
    "  x2 = (-B-raiz(B**2-(4*A*C)))/(2*A)\n",
    "  print(\"Las soluciones de la ecuación son:\")\n",
    "  print(x1)\n",
    "  print(x2)"
   ]
  },
  {
   "cell_type": "code",
   "execution_count": null,
   "metadata": {},
   "outputs": [],
   "source": [
    "#23\n",
    "\n",
    "val1 = int(input(\" Introduzca un valor A \"))\n",
    "val2 = int(input(\" Introduzca un valor B  😩\"))\n",
    "\n",
    "p=0\n",
    "c=0\n",
    "while val2!=c:\n",
    "    \n",
    "    p+=val1\n",
    "    c=c+1\n",
    "    \n",
    "print(p)\n",
    "\n"
   ]
  },
  {
   "cell_type": "code",
   "execution_count": 19,
   "metadata": {},
   "outputs": [
    {
     "name": "stdin",
     "output_type": "stream",
     "text": [
      " Ingrese el valor de X  34323523\n"
     ]
    },
    {
     "name": "stdout",
     "output_type": "stream",
     "text": [
      "34323523  tiene.  8 digitos\n"
     ]
    }
   ],
   "source": [
    "#24\n",
    "\n",
    "\n",
    "x = int(input(\" Ingrese el valor de X \"))\n",
    "\n",
    "cop = x \n",
    "\n",
    "cont= 0 \n",
    "\n",
    "if x == 0 :\n",
    "    print(\"  0 tiene 1 digito\")\n",
    "else :\n",
    "    while x!=0:\n",
    "        x = (x//10)\n",
    "        cont+=1\n",
    "        \n",
    "    print(cop , \" tiene. \" , cont, \"digitos\")"
   ]
  },
  {
   "cell_type": "code",
   "execution_count": 2,
   "metadata": {},
   "outputs": [
    {
     "name": "stdin",
     "output_type": "stream",
     "text": [
      " cuantos numeros desea añadir  4\n",
      "Introduzca el elemento  3\n",
      "Introduzca el elemento  2\n",
      "Introduzca el elemento  0\n",
      "Introduzca el elemento  -1\n"
     ]
    },
    {
     "name": "stdout",
     "output_type": "stream",
     "text": [
      "[3, 2, 0, -1]\n",
      " el mayor es :  3\n",
      " el menor es :  -1\n",
      " la Media Es  :  1.0\n"
     ]
    }
   ],
   "source": [
    "#25\n",
    "\n",
    "min=0\n",
    "max=0\n",
    "j=0\n",
    "\n",
    "n = int(input(\" cuantos numeros desea añadir \"))\n",
    "\n",
    "ln=[]\n",
    "\n",
    "\n",
    "for i in range(1,n+1):\n",
    "    element=int(input(\"Introduzca el elemento \"))\n",
    "    ln.append(element)\n",
    "\n",
    "while j<len(ln):\n",
    "    if ln[j]>max:\n",
    "        max=ln[j]\n",
    "    if ln[j]<min:\n",
    "        min=ln[j]\n",
    "    j+=1\n",
    "        \n",
    "print(ln)\n",
    "\n",
    "\n",
    "print(\" el mayor es : \" , max)\n",
    "print(\" el menor es : \" , min)\n",
    "print(\" la Media Es  : \" , sum(ln)/n)"
   ]
  },
  {
   "cell_type": "code",
   "execution_count": 12,
   "metadata": {},
   "outputs": [
    {
     "name": "stdin",
     "output_type": "stream",
     "text": [
      " Introduzca un valor A  2\n",
      " Introduzca un valor B  2\n"
     ]
    },
    {
     "name": "stdout",
     "output_type": "stream",
     "text": [
      "2 ^ 2  =  4\n"
     ]
    }
   ],
   "source": [
    "#26\n",
    "\n",
    "val3 = int(input(\" Introduzca un valor A \"))\n",
    "val4 = int(input(\" Introduzca un valor B \"))\n",
    "\n",
    "p=1\n",
    "c=0\n",
    "while val4!=c:\n",
    "    \n",
    "    p*=val3\n",
    "    c=c+1\n",
    "    \n",
    "print(val3 ,\"^\" ,val4 ,\" = \" ,p)\n"
   ]
  },
  {
   "cell_type": "code",
   "execution_count": 3,
   "metadata": {},
   "outputs": [
    {
     "name": "stdin",
     "output_type": "stream",
     "text": [
      "Ingrese el numero de terminos que desea :  3\n"
     ]
    },
    {
     "name": "stdout",
     "output_type": "stream",
     "text": [
      "3.5555555556\n"
     ]
    }
   ],
   "source": [
    "#27\n",
    "\n",
    "terminos=int(input(\"Ingrese el numero de terminos que desea : \"))\n",
    "x=2.0\n",
    "for n in range(1,terminos+1):\n",
    "    if(n%2==0):  \n",
    "        x  =  x * n/(n+1)\n",
    "    elif(n%2==1): \n",
    "        x  =  x * (n+1)/n\n",
    "print(round(x,10))\n",
    "\n",
    "\n"
   ]
  },
  {
   "cell_type": "code",
   "execution_count": 5,
   "metadata": {},
   "outputs": [
    {
     "name": "stdin",
     "output_type": "stream",
     "text": [
      "Ingrese un numero que desee calcular exponecialmente 5\n"
     ]
    },
    {
     "name": "stdout",
     "output_type": "stream",
     "text": [
      " e ^  5  ==  148.41\n"
     ]
    }
   ],
   "source": [
    "#28\n",
    "\n",
    "def fact(n):\n",
    "    if n >= 1:\n",
    "        return n * fact(n - 1)\n",
    "    else:\n",
    "        return 1\n",
    "\n",
    "x=int(input(\"Ingrese un numero que desee calcular exponecialmente\"))\n",
    "\n",
    "suma=1+x\n",
    "\n",
    "for i in range(2,100):\n",
    "    \n",
    "    suma=suma+(x**i/fact(i))\n",
    "\n",
    "print(\" e ^ \",x , \" == \" ,round(suma,2))\n",
    "\n",
    "\n"
   ]
  },
  {
   "cell_type": "code",
   "execution_count": 46,
   "metadata": {},
   "outputs": [
    {
     "name": "stdout",
     "output_type": "stream",
     "text": [
      "suma de vector\n"
     ]
    },
    {
     "name": "stdin",
     "output_type": "stream",
     "text": [
      " cuantos numeros desea añadir  5\n",
      "Introduzca el elemento  5\n",
      "Introduzca el elemento  3\n",
      "Introduzca el elemento  5\n",
      "Introduzca el elemento  2\n",
      "Introduzca el elemento  1\n"
     ]
    },
    {
     "name": "stdout",
     "output_type": "stream",
     "text": [
      "[5, 3, 5, 2, 1]\n",
      "Promedio es :  3.2\n"
     ]
    }
   ],
   "source": [
    "### 29\n",
    "\n",
    "\n",
    "print(\"suma de vector\")\n",
    "\n",
    "n = int(input(\" cuantos numeros desea añadir \"))\n",
    "\n",
    "ln=[]\n",
    "\n",
    "for i in range(1,n+1):\n",
    "    element=int(input(\"Introduzca el elemento \"))\n",
    "    ln.append(element)\n",
    "\n",
    "print(ln)\n",
    "\n",
    "print(\"Promedio es : \" , sum(ln)/n)\n",
    "\n",
    "\n"
   ]
  },
  {
   "cell_type": "code",
   "execution_count": 2,
   "metadata": {},
   "outputs": [
    {
     "name": "stdout",
     "output_type": "stream",
     "text": [
      "[21, 7, 21]\n",
      "[54, 19, 51]\n",
      "[22, 8, 20]\n"
     ]
    }
   ],
   "source": [
    "#30\n",
    "\n",
    "\n",
    "\n",
    "\n",
    "\n",
    "A=[[1,2,3],[4,5,6],[2,2,2]]\n",
    "B=[[5,2,1],[2,1,7],[4,1,2]]\n",
    "\n",
    "ma=[[0,0,0],[0,0,0],[0,0,0]]\n",
    "\n",
    "            \n",
    "\n",
    "for i in range(0,len(A)):\n",
    "    for j in range(0,len(B[0])):\n",
    "        for k in range(0,len(B)):\n",
    "            ma[i][j] += A[i][k]*B[k][j]\n",
    "        \n",
    "for l in ma:\n",
    "    print(l)\n"
   ]
  },
  {
   "cell_type": "code",
   "execution_count": null,
   "metadata": {},
   "outputs": [],
   "source": []
  },
  {
   "cell_type": "code",
   "execution_count": null,
   "metadata": {},
   "outputs": [],
   "source": []
  }
 ],
 "metadata": {
  "kernelspec": {
   "display_name": "Python 3",
   "language": "python",
   "name": "python3"
  },
  "language_info": {
   "codemirror_mode": {
    "name": "ipython",
    "version": 3
   },
   "file_extension": ".py",
   "mimetype": "text/x-python",
   "name": "python",
   "nbconvert_exporter": "python",
   "pygments_lexer": "ipython3",
   "version": "3.7.4"
  }
 },
 "nbformat": 4,
 "nbformat_minor": 4
}
